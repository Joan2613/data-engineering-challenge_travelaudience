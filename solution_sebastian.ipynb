{
 "cells": [
  {
   "attachments": {},
   "cell_type": "markdown",
   "metadata": {},
   "source": [
    "## Import libraries and load data"
   ]
  },
  {
   "cell_type": "code",
   "execution_count": 1,
   "metadata": {},
   "outputs": [],
   "source": [
    "import pandas as pd\n",
    "import numpy as np\n",
    "from sklearn.neighbors import BallTree, KDTree\n",
    "import geopandas as gpd\n",
    "from shapely.geometry import Point"
   ]
  },
  {
   "attachments": {},
   "cell_type": "markdown",
   "metadata": {},
   "source": [
    "### Load files and create radian columns"
   ]
  },
  {
   "cell_type": "code",
   "execution_count": 2,
   "metadata": {},
   "outputs": [
    {
     "data": {
      "text/html": [
       "<div>\n",
       "<style scoped>\n",
       "    .dataframe tbody tr th:only-of-type {\n",
       "        vertical-align: middle;\n",
       "    }\n",
       "\n",
       "    .dataframe tbody tr th {\n",
       "        vertical-align: top;\n",
       "    }\n",
       "\n",
       "    .dataframe thead th {\n",
       "        text-align: right;\n",
       "    }\n",
       "</style>\n",
       "<table border=\"1\" class=\"dataframe\">\n",
       "  <thead>\n",
       "    <tr style=\"text-align: right;\">\n",
       "      <th></th>\n",
       "      <th>iata_code</th>\n",
       "      <th>latitude</th>\n",
       "      <th>longitude</th>\n",
       "      <th>latitude_rad</th>\n",
       "      <th>longitude_rad</th>\n",
       "    </tr>\n",
       "  </thead>\n",
       "  <tbody>\n",
       "    <tr>\n",
       "      <th>0</th>\n",
       "      <td>AAA</td>\n",
       "      <td>-17.352606</td>\n",
       "      <td>-145.509956</td>\n",
       "      <td>-0.302860</td>\n",
       "      <td>-2.539628</td>\n",
       "    </tr>\n",
       "    <tr>\n",
       "      <th>1</th>\n",
       "      <td>AAB</td>\n",
       "      <td>-26.693170</td>\n",
       "      <td>141.047800</td>\n",
       "      <td>-0.465884</td>\n",
       "      <td>2.461749</td>\n",
       "    </tr>\n",
       "    <tr>\n",
       "      <th>2</th>\n",
       "      <td>AAC</td>\n",
       "      <td>31.073330</td>\n",
       "      <td>33.835830</td>\n",
       "      <td>0.542332</td>\n",
       "      <td>0.590547</td>\n",
       "    </tr>\n",
       "    <tr>\n",
       "      <th>3</th>\n",
       "      <td>AAD</td>\n",
       "      <td>6.096820</td>\n",
       "      <td>46.638250</td>\n",
       "      <td>0.106410</td>\n",
       "      <td>0.813991</td>\n",
       "    </tr>\n",
       "    <tr>\n",
       "      <th>4</th>\n",
       "      <td>AAE</td>\n",
       "      <td>36.822225</td>\n",
       "      <td>7.809167</td>\n",
       "      <td>0.642669</td>\n",
       "      <td>0.136296</td>\n",
       "    </tr>\n",
       "  </tbody>\n",
       "</table>\n",
       "</div>"
      ],
      "text/plain": [
       "  iata_code   latitude   longitude  latitude_rad  longitude_rad\n",
       "0       AAA -17.352606 -145.509956     -0.302860      -2.539628\n",
       "1       AAB -26.693170  141.047800     -0.465884       2.461749\n",
       "2       AAC  31.073330   33.835830      0.542332       0.590547\n",
       "3       AAD   6.096820   46.638250      0.106410       0.813991\n",
       "4       AAE  36.822225    7.809167      0.642669       0.136296"
      ]
     },
     "execution_count": 2,
     "metadata": {},
     "output_type": "execute_result"
    }
   ],
   "source": [
    "optd=pd.read_csv(r\"data/optd-airports-sample.csv.gz\")\n",
    "for column in optd[[\"latitude\", \"longitude\"]]:\n",
    "    rad = np.deg2rad(optd[column].values)\n",
    "    optd[f'{column}_rad'] = rad\n",
    "optd.head()"
   ]
  },
  {
   "cell_type": "code",
   "execution_count": 3,
   "metadata": {},
   "outputs": [
    {
     "data": {
      "text/html": [
       "<div>\n",
       "<style scoped>\n",
       "    .dataframe tbody tr th:only-of-type {\n",
       "        vertical-align: middle;\n",
       "    }\n",
       "\n",
       "    .dataframe tbody tr th {\n",
       "        vertical-align: top;\n",
       "    }\n",
       "\n",
       "    .dataframe thead th {\n",
       "        text-align: right;\n",
       "    }\n",
       "</style>\n",
       "<table border=\"1\" class=\"dataframe\">\n",
       "  <thead>\n",
       "    <tr style=\"text-align: right;\">\n",
       "      <th></th>\n",
       "      <th>uuid</th>\n",
       "      <th>geoip_latitude</th>\n",
       "      <th>geoip_longitude</th>\n",
       "      <th>geoip_latitude_rad</th>\n",
       "      <th>geoip_longitude_rad</th>\n",
       "    </tr>\n",
       "  </thead>\n",
       "  <tbody>\n",
       "    <tr>\n",
       "      <th>0</th>\n",
       "      <td>DDEFEBEA-98ED-49EB-A4E7-9D7BFDB7AA0B</td>\n",
       "      <td>-37.833302</td>\n",
       "      <td>145.050003</td>\n",
       "      <td>-0.660316</td>\n",
       "      <td>2.531600</td>\n",
       "    </tr>\n",
       "    <tr>\n",
       "      <th>1</th>\n",
       "      <td>DAEF2221-14BE-467B-894A-F101CDCC38E4</td>\n",
       "      <td>52.516701</td>\n",
       "      <td>4.666700</td>\n",
       "      <td>0.916589</td>\n",
       "      <td>0.081449</td>\n",
       "    </tr>\n",
       "    <tr>\n",
       "      <th>2</th>\n",
       "      <td>31971B3E-2F80-4F8D-86BA-1F2077DF36A2</td>\n",
       "      <td>35.685001</td>\n",
       "      <td>139.751404</td>\n",
       "      <td>0.622821</td>\n",
       "      <td>2.439122</td>\n",
       "    </tr>\n",
       "    <tr>\n",
       "      <th>3</th>\n",
       "      <td>1A29A45C-D560-43D8-ADAB-C2F0AD068FFE</td>\n",
       "      <td>44.840401</td>\n",
       "      <td>-0.580500</td>\n",
       "      <td>0.782613</td>\n",
       "      <td>-0.010132</td>\n",
       "    </tr>\n",
       "    <tr>\n",
       "      <th>4</th>\n",
       "      <td>A6EC281B-B8EC-465A-8933-F127472DB0A3</td>\n",
       "      <td>51.963299</td>\n",
       "      <td>4.499700</td>\n",
       "      <td>0.906931</td>\n",
       "      <td>0.078535</td>\n",
       "    </tr>\n",
       "  </tbody>\n",
       "</table>\n",
       "</div>"
      ],
      "text/plain": [
       "                                   uuid  geoip_latitude  geoip_longitude   \n",
       "0  DDEFEBEA-98ED-49EB-A4E7-9D7BFDB7AA0B      -37.833302       145.050003  \\\n",
       "1  DAEF2221-14BE-467B-894A-F101CDCC38E4       52.516701         4.666700   \n",
       "2  31971B3E-2F80-4F8D-86BA-1F2077DF36A2       35.685001       139.751404   \n",
       "3  1A29A45C-D560-43D8-ADAB-C2F0AD068FFE       44.840401        -0.580500   \n",
       "4  A6EC281B-B8EC-465A-8933-F127472DB0A3       51.963299         4.499700   \n",
       "\n",
       "   geoip_latitude_rad  geoip_longitude_rad  \n",
       "0           -0.660316             2.531600  \n",
       "1            0.916589             0.081449  \n",
       "2            0.622821             2.439122  \n",
       "3            0.782613            -0.010132  \n",
       "4            0.906931             0.078535  "
      ]
     },
     "execution_count": 3,
     "metadata": {},
     "output_type": "execute_result"
    }
   ],
   "source": [
    "geo_samples=pd.read_csv(r\"data/user-geo-sample.csv.gz\")\n",
    "for column in geo_samples[[\"geoip_latitude\", \"geoip_longitude\"]]:\n",
    "    rad = np.deg2rad(geo_samples[column].values)\n",
    "    geo_samples[f'{column}_rad'] = rad\n",
    "geo_samples.head()"
   ]
  },
  {
   "cell_type": "code",
   "execution_count": 4,
   "metadata": {},
   "outputs": [
    {
     "name": "stdout",
     "output_type": "stream",
     "text": [
      "(1000000, 3) (9227, 3)\n"
     ]
    }
   ],
   "source": [
    "print(geo_samples.shape,optd.shape)"
   ]
  },
  {
   "attachments": {},
   "cell_type": "markdown",
   "metadata": {},
   "source": [
    "## Define clustering algorithm"
   ]
  },
  {
   "cell_type": "code",
   "execution_count": 38,
   "metadata": {},
   "outputs": [],
   "source": [
    "# Takes the first group's latitude and longitude values to construct\n",
    "# the kd tree.\n",
    "kd = KDTree(optd[[\"latitude_rad\", \"longitude_rad\"]].values, metric='euclidean')\n",
    "# The amount of neighbors to return.\n",
    "number_initial_neightbors = 5\n",
    "# The amount of neighbors to return.\n",
    "number_final_neightbors = 1"
   ]
  },
  {
   "attachments": {},
   "cell_type": "markdown",
   "metadata": {},
   "source": [
    "## Define function to find closest airport"
   ]
  },
  {
   "cell_type": "code",
   "execution_count": 80,
   "metadata": {},
   "outputs": [],
   "source": [
    "def closest_airport_v1(uuid,geo_sample_latitude,geo_sample_longitude):\n",
    "    \"\"\"_summary_\n",
    "\n",
    "    Args:\n",
    "        geo_sample (_type_): _description_\n",
    "    \"\"\"\n",
    "    data=np.array([[geo_sample_latitude,geo_sample_longitude]])\n",
    "    distances, indices_euclidean = kd.query(data, k = number_initial_neightbors)\n",
    "    ball = BallTree(optd.loc[indices_euclidean[0]][[\"latitude_rad\", \"longitude_rad\"]].values, metric='haversine')\n",
    "    distances, indices = ball.query(data, k = number_final_neightbors)\n",
    "    \n",
    "    indice=indices_euclidean[0][indices[0]]\n",
    "    # print(indice)\n",
    "    return uuid,optd.loc[indice[0]]['iata_code']"
   ]
  },
  {
   "cell_type": "code",
   "execution_count": 92,
   "metadata": {},
   "outputs": [],
   "source": [
    "ball = BallTree(optd[[\"latitude_rad\", \"longitude_rad\"]].values, metric='haversine')\n",
    "def closest_airport_v2(uuid,geo_sample_latitude,geo_sample_longitude):\n",
    "    \"\"\"_summary_\n",
    "\n",
    "    Args:\n",
    "        uuid (str): unique_sample_identifier\n",
    "        geo_sample_latitude (int): latitude in radians\n",
    "        geo_sample_longitude (int): longitude in radians\n",
    "\n",
    "    Returns:\n",
    "        tuple: uuid,iaat_code\n",
    "    \"\"\"\n",
    "    data=np.array([[geo_sample_latitude,geo_sample_longitude]])\n",
    "    distances, indices = ball.query(data, k = number_final_neightbors)\n",
    "    return uuid,optd.loc[indices[0][0]]['iata_code']"
   ]
  },
  {
   "cell_type": "code",
   "execution_count": 129,
   "metadata": {},
   "outputs": [],
   "source": [
    "ball = BallTree(optd[[\"latitude_rad\", \"longitude_rad\"]].values, metric='haversine')\n",
    "def closest_airport_v3(geo_sample):\n",
    "    \"\"\"_summary_\n",
    "\n",
    "    Args:\n",
    "        uuid (str): unique_sample_identifier\n",
    "        geo_sample_latitude (int): latitude in radians\n",
    "        geo_sample_longitude (int): longitude in radians\n",
    "\n",
    "    Returns:\n",
    "        tuple: uuid,iaat_code\n",
    "    \"\"\"\n",
    "    distances, indices = ball.query(geo_sample[['geoip_latitude_rad','geoip_longitude_rad']], k = number_final_neightbors)\n",
    "    # print(indices.flatten())\n",
    "    return pd.DataFrame(geo_sample['uuid']).join(optd.loc[indices.flatten()]['iata_code'].reset_index(drop=True))"
   ]
  },
  {
   "cell_type": "code",
   "execution_count": 61,
   "metadata": {},
   "outputs": [
    {
     "name": "stdout",
     "output_type": "stream",
     "text": [
      "[4648 4702 4712  464 1081]\n"
     ]
    },
    {
     "data": {
      "text/plain": [
       "('DDEFEBEA-98ED-49EB-A4E7-9D7BFDB7AA0B', 'MBW')"
      ]
     },
     "execution_count": 61,
     "metadata": {},
     "output_type": "execute_result"
    }
   ],
   "source": [
    "closest_airport('DDEFEBEA-98ED-49EB-A4E7-9D7BFDB7AA0B',-0.6603156788459609, 2.531600133280997)"
   ]
  },
  {
   "cell_type": "code",
   "execution_count": 82,
   "metadata": {},
   "outputs": [
    {
     "data": {
      "text/plain": [
       "0      (DDEFEBEA-98ED-49EB-A4E7-9D7BFDB7AA0B, MBW)\n",
       "1      (DAEF2221-14BE-467B-894A-F101CDCC38E4, AMS)\n",
       "2      (31971B3E-2F80-4F8D-86BA-1F2077DF36A2, HND)\n",
       "3      (1A29A45C-D560-43D8-ADAB-C2F0AD068FFE, BOD)\n",
       "4      (A6EC281B-B8EC-465A-8933-F127472DB0A3, RTM)\n",
       "                          ...                     \n",
       "995    (C195AD1A-EEF3-4188-95D7-53ED43BE7DC8, RAO)\n",
       "996    (F5F979CB-1A71-446F-BDA7-CB720EDFC8B4, EDM)\n",
       "997    (5A863C48-F6C4-411E-BAA4-21BC8D97127B, SVG)\n",
       "998    (CAC6F5A1-6C3A-4186-A34A-8D9574EAE4C7, ZRH)\n",
       "999    (8EE6BDAB-2CA0-4345-970F-E2A191FC2036, ORY)\n",
       "Length: 1000, dtype: object"
      ]
     },
     "execution_count": 82,
     "metadata": {},
     "output_type": "execute_result"
    }
   ],
   "source": [
    "geo_samples.head(1000).apply(lambda x: closest_airport_v1(x['uuid'],x['geoip_latitude_rad'],x['geoip_longitude_rad']),axis=1)"
   ]
  },
  {
   "cell_type": "code",
   "execution_count": 105,
   "metadata": {},
   "outputs": [
    {
     "data": {
      "text/plain": [
       "0      (DDEFEBEA-98ED-49EB-A4E7-9D7BFDB7AA0B, MBW)\n",
       "1      (DAEF2221-14BE-467B-894A-F101CDCC38E4, AMS)\n",
       "2      (31971B3E-2F80-4F8D-86BA-1F2077DF36A2, HND)\n",
       "3      (1A29A45C-D560-43D8-ADAB-C2F0AD068FFE, BOD)\n",
       "4      (A6EC281B-B8EC-465A-8933-F127472DB0A3, RTM)\n",
       "                          ...                     \n",
       "995    (C195AD1A-EEF3-4188-95D7-53ED43BE7DC8, RAO)\n",
       "996    (F5F979CB-1A71-446F-BDA7-CB720EDFC8B4, EDM)\n",
       "997    (5A863C48-F6C4-411E-BAA4-21BC8D97127B, SVG)\n",
       "998    (CAC6F5A1-6C3A-4186-A34A-8D9574EAE4C7, ZRH)\n",
       "999    (8EE6BDAB-2CA0-4345-970F-E2A191FC2036, ORY)\n",
       "Length: 1000, dtype: object"
      ]
     },
     "execution_count": 105,
     "metadata": {},
     "output_type": "execute_result"
    }
   ],
   "source": [
    "geo_samples.head(1000).apply(lambda x: closest_airport_v2(x['uuid'],x['geoip_latitude_rad'],x['geoip_longitude_rad']),axis=1)"
   ]
  },
  {
   "cell_type": "code",
   "execution_count": 95,
   "metadata": {},
   "outputs": [
    {
     "data": {
      "text/plain": [
       "Index(['uuid', 'geoip_latitude', 'geoip_longitude', 'geoip_latitude_rad',\n",
       "       'geoip_longitude_rad'],\n",
       "      dtype='object')"
      ]
     },
     "execution_count": 95,
     "metadata": {},
     "output_type": "execute_result"
    }
   ],
   "source": [
    "geo_samples.columns"
   ]
  },
  {
   "cell_type": "code",
   "execution_count": 130,
   "metadata": {},
   "outputs": [
    {
     "data": {
      "text/html": [
       "<div>\n",
       "<style scoped>\n",
       "    .dataframe tbody tr th:only-of-type {\n",
       "        vertical-align: middle;\n",
       "    }\n",
       "\n",
       "    .dataframe tbody tr th {\n",
       "        vertical-align: top;\n",
       "    }\n",
       "\n",
       "    .dataframe thead th {\n",
       "        text-align: right;\n",
       "    }\n",
       "</style>\n",
       "<table border=\"1\" class=\"dataframe\">\n",
       "  <thead>\n",
       "    <tr style=\"text-align: right;\">\n",
       "      <th></th>\n",
       "      <th>uuid</th>\n",
       "      <th>iata_code</th>\n",
       "    </tr>\n",
       "  </thead>\n",
       "  <tbody>\n",
       "    <tr>\n",
       "      <th>0</th>\n",
       "      <td>DDEFEBEA-98ED-49EB-A4E7-9D7BFDB7AA0B</td>\n",
       "      <td>MBW</td>\n",
       "    </tr>\n",
       "    <tr>\n",
       "      <th>1</th>\n",
       "      <td>DAEF2221-14BE-467B-894A-F101CDCC38E4</td>\n",
       "      <td>AMS</td>\n",
       "    </tr>\n",
       "    <tr>\n",
       "      <th>2</th>\n",
       "      <td>31971B3E-2F80-4F8D-86BA-1F2077DF36A2</td>\n",
       "      <td>HND</td>\n",
       "    </tr>\n",
       "    <tr>\n",
       "      <th>3</th>\n",
       "      <td>1A29A45C-D560-43D8-ADAB-C2F0AD068FFE</td>\n",
       "      <td>BOD</td>\n",
       "    </tr>\n",
       "    <tr>\n",
       "      <th>4</th>\n",
       "      <td>A6EC281B-B8EC-465A-8933-F127472DB0A3</td>\n",
       "      <td>RTM</td>\n",
       "    </tr>\n",
       "    <tr>\n",
       "      <th>...</th>\n",
       "      <td>...</td>\n",
       "      <td>...</td>\n",
       "    </tr>\n",
       "    <tr>\n",
       "      <th>995</th>\n",
       "      <td>C195AD1A-EEF3-4188-95D7-53ED43BE7DC8</td>\n",
       "      <td>RAO</td>\n",
       "    </tr>\n",
       "    <tr>\n",
       "      <th>996</th>\n",
       "      <td>F5F979CB-1A71-446F-BDA7-CB720EDFC8B4</td>\n",
       "      <td>EDM</td>\n",
       "    </tr>\n",
       "    <tr>\n",
       "      <th>997</th>\n",
       "      <td>5A863C48-F6C4-411E-BAA4-21BC8D97127B</td>\n",
       "      <td>SVG</td>\n",
       "    </tr>\n",
       "    <tr>\n",
       "      <th>998</th>\n",
       "      <td>CAC6F5A1-6C3A-4186-A34A-8D9574EAE4C7</td>\n",
       "      <td>ZRH</td>\n",
       "    </tr>\n",
       "    <tr>\n",
       "      <th>999</th>\n",
       "      <td>8EE6BDAB-2CA0-4345-970F-E2A191FC2036</td>\n",
       "      <td>ORY</td>\n",
       "    </tr>\n",
       "  </tbody>\n",
       "</table>\n",
       "<p>1000 rows × 2 columns</p>\n",
       "</div>"
      ],
      "text/plain": [
       "                                     uuid iata_code\n",
       "0    DDEFEBEA-98ED-49EB-A4E7-9D7BFDB7AA0B       MBW\n",
       "1    DAEF2221-14BE-467B-894A-F101CDCC38E4       AMS\n",
       "2    31971B3E-2F80-4F8D-86BA-1F2077DF36A2       HND\n",
       "3    1A29A45C-D560-43D8-ADAB-C2F0AD068FFE       BOD\n",
       "4    A6EC281B-B8EC-465A-8933-F127472DB0A3       RTM\n",
       "..                                    ...       ...\n",
       "995  C195AD1A-EEF3-4188-95D7-53ED43BE7DC8       RAO\n",
       "996  F5F979CB-1A71-446F-BDA7-CB720EDFC8B4       EDM\n",
       "997  5A863C48-F6C4-411E-BAA4-21BC8D97127B       SVG\n",
       "998  CAC6F5A1-6C3A-4186-A34A-8D9574EAE4C7       ZRH\n",
       "999  8EE6BDAB-2CA0-4345-970F-E2A191FC2036       ORY\n",
       "\n",
       "[1000 rows x 2 columns]"
      ]
     },
     "execution_count": 130,
     "metadata": {},
     "output_type": "execute_result"
    }
   ],
   "source": [
    "closest_airport_v3(geo_samples.head(1000)[['uuid', 'geoip_latitude_rad','geoip_longitude_rad']])"
   ]
  },
  {
   "cell_type": "code",
   "execution_count": 16,
   "metadata": {},
   "outputs": [
    {
     "data": {
      "text/plain": [
       "array([[4648, 4702, 4712,  464, 1081]], dtype=int64)"
      ]
     },
     "execution_count": 16,
     "metadata": {},
     "output_type": "execute_result"
    }
   ],
   "source": [
    "# Takes the first group's latitude and longitude values to construct\n",
    "# the kd tree.\n",
    "kd = KDTree(optd[[\"latitude_rad\", \"longitude_rad\"]].values, metric='euclidean')\n",
    "# The amount of neighbors to return.\n",
    "k = 5\n",
    "# Executes a query with the second group. This will return two\n",
    "# arrays.\n"
   ]
  },
  {
   "cell_type": "code",
   "execution_count": 28,
   "metadata": {},
   "outputs": [
    {
     "data": {
      "text/plain": [
       "array([[0, 1, 2, 3, 4]], dtype=int64)"
      ]
     },
     "execution_count": 28,
     "metadata": {},
     "output_type": "execute_result"
    }
   ],
   "source": [
    "distances, indices = kd.query(geo_samples[[\"geoip_latitude_rad\", \"geoip_longitude_rad\"]].head(1), k = number_neightbors)\n",
    "ball = BallTree(optd.loc[indices[0]][[\"latitude_rad\", \"longitude_rad\"]].values, metric='haversine')\n",
    "# The amount of neighbors to return.\n",
    "k = 1\n",
    "# Executes a query with the second group. This will return two\n",
    "# arrays.\n",
    "distances, indices = ball.query(geo_samples[[\"geoip_latitude_rad\", \"geoip_longitude_rad\"]].head(1), k = k)\n",
    "indices"
   ]
  },
  {
   "cell_type": "code",
   "execution_count": 75,
   "metadata": {},
   "outputs": [
    {
     "data": {
      "text/plain": [
       "array([[4648]], dtype=int64)"
      ]
     },
     "execution_count": 75,
     "metadata": {},
     "output_type": "execute_result"
    }
   ],
   "source": [
    "ball = BallTree(optd[[\"latitude_rad\", \"longitude_rad\"]].values, metric='haversine')\n",
    "distances, indices = ball.query(geo_samples[[\"geoip_latitude_rad\", \"geoip_longitude_rad\"]].head(1), k = number_final_neightbors)\n",
    "indices"
   ]
  },
  {
   "cell_type": "code",
   "execution_count": 32,
   "metadata": {},
   "outputs": [
    {
     "data": {
      "text/plain": [
       "array(['DDEFEBEA-98ED-49EB-A4E7-9D7BFDB7AA0B', -37.83330154418945,\n",
       "       145.0500030517578, -0.6603156788459609, 2.531600133280997],\n",
       "      dtype=object)"
      ]
     },
     "execution_count": 32,
     "metadata": {},
     "output_type": "execute_result"
    }
   ],
   "source": [
    "geo_samples.head(1).values[0]"
   ]
  },
  {
   "cell_type": "code",
   "execution_count": 6,
   "metadata": {},
   "outputs": [
    {
     "data": {
      "text/plain": [
       "array([[4648, 4702],\n",
       "       [ 268, 1795],\n",
       "       [3022, 5684],\n",
       "       ...,\n",
       "       [ 691, 7202],\n",
       "       [6725,  268],\n",
       "       [ 828,  363]], dtype=int64)"
      ]
     },
     "execution_count": 6,
     "metadata": {},
     "output_type": "execute_result"
    }
   ],
   "source": [
    "# Takes the first group's latitude and longitude values to construct\n",
    "# the kd tree.\n",
    "ball = BallTree(optd[[\"latitude_rad\", \"longitude_rad\"]].values, metric='haversine')\n",
    "# The amount of neighbors to return.\n",
    "k = 2\n",
    "# Executes a query with the second group. This will return two\n",
    "# arrays.\n",
    "distances, indices = ball.query(geo_samples[[\"geoip_latitude_rad\", \"geoip_longitude_rad\"]], k = k)\n",
    "indices"
   ]
  },
  {
   "cell_type": "code",
   "execution_count": 5,
   "metadata": {},
   "outputs": [
    {
     "data": {
      "text/plain": [
       "(1000000, 2)"
      ]
     },
     "execution_count": 5,
     "metadata": {},
     "output_type": "execute_result"
    }
   ],
   "source": [
    "indices.shape"
   ]
  },
  {
   "cell_type": "code",
   "execution_count": null,
   "metadata": {},
   "outputs": [],
   "source": []
  },
  {
   "cell_type": "code",
   "execution_count": null,
   "metadata": {},
   "outputs": [],
   "source": []
  },
  {
   "cell_type": "code",
   "execution_count": 5,
   "metadata": {},
   "outputs": [],
   "source": [
    "\n",
    "# create a GeoDataFrame from the dataframe and the point geometries\n",
    "geometry = [Point(xy) for xy in zip(optd['longitude'], optd['latitude'])]\n",
    "gdf = gpd.GeoDataFrame(optd, geometry=geometry, crs=\"EPSG:4326\")\n",
    "\n",
    "# create a spatial index for the GeoDataFrame\n",
    "gdf_sindex = gdf.sindex\n",
    "def calcular_aeropuerto_cercano(longitude,latitude):\n",
    "    point=Point(longitude,latitude)\n",
    "    # find the index of the nearest point to the given point\n",
    "    nearest_idx = list(gdf_sindex.nearest(point.bounds, 1))[0]\n",
    "    # retrieve the nearest point from the GeoDataFrame\n",
    "    nearest_point = gdf.iloc[nearest_idx]\n",
    "    # print the identifier of the nearest point\n",
    "    print(nearest_point['iata_code'])\n"
   ]
  },
  {
   "cell_type": "code",
   "execution_count": 6,
   "metadata": {},
   "outputs": [
    {
     "ename": "TypeError",
     "evalue": "One of the arguments is of incorrect type. Please provide only Geometry objects.",
     "output_type": "error",
     "traceback": [
      "\u001b[1;31m---------------------------------------------------------------------------\u001b[0m",
      "\u001b[1;31mTypeError\u001b[0m                                 Traceback (most recent call last)",
      "Cell \u001b[1;32mIn[6], line 1\u001b[0m\n\u001b[1;32m----> 1\u001b[0m calcular_aeropuerto_cercano(\u001b[39m-\u001b[39;49m\u001b[39m145.509956\u001b[39;49m,\u001b[39m-\u001b[39;49m\u001b[39m17.352606\u001b[39;49m)\n",
      "Cell \u001b[1;32mIn[5], line 10\u001b[0m, in \u001b[0;36mcalcular_aeropuerto_cercano\u001b[1;34m(longitude, latitude)\u001b[0m\n\u001b[0;32m      8\u001b[0m point\u001b[39m=\u001b[39mPoint(longitude,latitude)\n\u001b[0;32m      9\u001b[0m \u001b[39m# find the index of the nearest point to the given point\u001b[39;00m\n\u001b[1;32m---> 10\u001b[0m nearest_idx \u001b[39m=\u001b[39m \u001b[39mlist\u001b[39m(gdf_sindex\u001b[39m.\u001b[39;49mnearest(point\u001b[39m.\u001b[39;49mbounds, \u001b[39m1\u001b[39;49m))[\u001b[39m0\u001b[39m]\n\u001b[0;32m     11\u001b[0m \u001b[39m# retrieve the nearest point from the GeoDataFrame\u001b[39;00m\n\u001b[0;32m     12\u001b[0m nearest_point \u001b[39m=\u001b[39m gdf\u001b[39m.\u001b[39miloc[nearest_idx]\n",
      "File \u001b[1;32mc:\\Users\\joan2\\AppData\\Local\\Programs\\Python\\Python310\\lib\\site-packages\\geopandas\\sindex.py:780\u001b[0m, in \u001b[0;36mPyGEOSSTRTreeIndex.nearest\u001b[1;34m(self, geometry, return_all, max_distance, return_distance)\u001b[0m\n\u001b[0;32m    777\u001b[0m     geometry \u001b[39m=\u001b[39m [geometry]\n\u001b[0;32m    779\u001b[0m \u001b[39mif\u001b[39;00m compat\u001b[39m.\u001b[39mUSE_SHAPELY_20:\n\u001b[1;32m--> 780\u001b[0m     result \u001b[39m=\u001b[39m \u001b[39mself\u001b[39;49m\u001b[39m.\u001b[39;49m_tree\u001b[39m.\u001b[39;49mquery_nearest(\n\u001b[0;32m    781\u001b[0m         geometry,\n\u001b[0;32m    782\u001b[0m         max_distance\u001b[39m=\u001b[39;49mmax_distance,\n\u001b[0;32m    783\u001b[0m         return_distance\u001b[39m=\u001b[39;49mreturn_distance,\n\u001b[0;32m    784\u001b[0m         all_matches\u001b[39m=\u001b[39;49mreturn_all,\n\u001b[0;32m    785\u001b[0m     )\n\u001b[0;32m    786\u001b[0m \u001b[39melse\u001b[39;00m:\n\u001b[0;32m    787\u001b[0m     \u001b[39mif\u001b[39;00m \u001b[39mnot\u001b[39;00m return_all \u001b[39mand\u001b[39;00m max_distance \u001b[39mis\u001b[39;00m \u001b[39mNone\u001b[39;00m \u001b[39mand\u001b[39;00m \u001b[39mnot\u001b[39;00m return_distance:\n",
      "File \u001b[1;32mc:\\Users\\joan2\\AppData\\Local\\Programs\\Python\\Python310\\lib\\site-packages\\shapely\\strtree.py:528\u001b[0m, in \u001b[0;36mSTRtree.query_nearest\u001b[1;34m(self, geometry, max_distance, return_distance, exclusive, all_matches)\u001b[0m\n\u001b[0;32m    525\u001b[0m \u001b[39mif\u001b[39;00m all_matches \u001b[39mnot\u001b[39;00m \u001b[39min\u001b[39;00m {\u001b[39mTrue\u001b[39;00m, \u001b[39mFalse\u001b[39;00m}:\n\u001b[0;32m    526\u001b[0m     \u001b[39mraise\u001b[39;00m \u001b[39mValueError\u001b[39;00m(\u001b[39m\"\u001b[39m\u001b[39mall_matches parameter must be boolean\u001b[39m\u001b[39m\"\u001b[39m)\n\u001b[1;32m--> 528\u001b[0m results \u001b[39m=\u001b[39m \u001b[39mself\u001b[39;49m\u001b[39m.\u001b[39;49m_tree\u001b[39m.\u001b[39;49mquery_nearest(\n\u001b[0;32m    529\u001b[0m     geometry, max_distance, exclusive, all_matches\n\u001b[0;32m    530\u001b[0m )\n\u001b[0;32m    532\u001b[0m \u001b[39m# output indices are shape (n, )\u001b[39;00m\n\u001b[0;32m    533\u001b[0m \u001b[39mif\u001b[39;00m is_scalar:\n",
      "\u001b[1;31mTypeError\u001b[0m: One of the arguments is of incorrect type. Please provide only Geometry objects."
     ]
    }
   ],
   "source": [
    "calcular_aeropuerto_cercano(-145.509956,-17.352606)"
   ]
  },
  {
   "cell_type": "code",
   "execution_count": null,
   "metadata": {},
   "outputs": [],
   "source": [
    "\t"
   ]
  }
 ],
 "metadata": {
  "kernelspec": {
   "display_name": "Python 3",
   "language": "python",
   "name": "python3"
  },
  "language_info": {
   "codemirror_mode": {
    "name": "ipython",
    "version": 3
   },
   "file_extension": ".py",
   "mimetype": "text/x-python",
   "name": "python",
   "nbconvert_exporter": "python",
   "pygments_lexer": "ipython3",
   "version": "3.10.10"
  },
  "orig_nbformat": 4
 },
 "nbformat": 4,
 "nbformat_minor": 2
}
